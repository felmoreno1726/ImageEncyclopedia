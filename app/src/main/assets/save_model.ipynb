{
 "cells": [
  {
   "cell_type": "code",
   "execution_count": 8,
   "metadata": {},
   "outputs": [],
   "source": [
    "import os\n",
    "import tensorflow as tf\n",
    "import keras\n",
    "import keras.backend as K\n",
    "from convertToTensorflow import keras_to_tensorflow"
   ]
  },
  {
   "cell_type": "code",
   "execution_count": 9,
   "metadata": {},
   "outputs": [
    {
     "name": "stdout",
     "output_type": "stream",
     "text": [
      "WARNING:tensorflow:From /home/pipemon/.local/lib/python3.6/site-packages/keras/backend/tensorflow_backend.py:3445: calling dropout (from tensorflow.python.ops.nn_ops) with keep_prob is deprecated and will be removed in a future version.\n",
      "Instructions for updating:\n",
      "Please use `rate` instead of `keep_prob`. Rate should be set to `rate = 1 - keep_prob`.\n"
     ]
    }
   ],
   "source": [
    "keras_model = keras.applications.mobilenet.MobileNet()\n",
    "keras_model.load_weights(\"keras_weights/mobilenet.h5\")"
   ]
  },
  {
   "cell_type": "code",
   "execution_count": 10,
   "metadata": {},
   "outputs": [
    {
     "name": "stdout",
     "output_type": "stream",
     "text": [
      "INFO:tensorflow:Froze 52 variables.\n",
      "INFO:tensorflow:Converted 52 variables to const ops.\n",
      "Model Imported. Visualize by running: tensorboard --logdir=/home/pipemon/Dropbox (MIT)/MIT/2019/Spring/18.0651/final_project/ImageEncyclopedia/app/src/main/assets/output_model\n",
      "MODEL SAVED\n"
     ]
    }
   ],
   "source": [
    "output_dir = os.path.join(os.getcwd(),\"output_model\")\n",
    "keras_to_tensorflow(keras_model,output_dir=output_dir,model_name=\"mobilenet.pb\")\n",
    "print(\"MODEL SAVED\")"
   ]
  }
 ],
 "metadata": {
  "kernelspec": {
   "display_name": "Python 3",
   "language": "python",
   "name": "python3"
  },
  "language_info": {
   "codemirror_mode": {
    "name": "ipython",
    "version": 3
   },
   "file_extension": ".py",
   "mimetype": "text/x-python",
   "name": "python",
   "nbconvert_exporter": "python",
   "pygments_lexer": "ipython3",
   "version": "3.6.7"
  }
 },
 "nbformat": 4,
 "nbformat_minor": 2
}
