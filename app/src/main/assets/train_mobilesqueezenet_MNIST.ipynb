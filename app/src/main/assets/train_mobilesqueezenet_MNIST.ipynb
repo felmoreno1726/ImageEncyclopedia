{
 "cells": [
  {
   "cell_type": "code",
   "execution_count": 1,
   "metadata": {},
   "outputs": [
    {
     "name": "stdout",
     "output_type": "stream",
     "text": [
      "WARNING:tensorflow:From /home/pipemon/.local/lib/python3.6/site-packages/tensorflow/python/framework/op_def_library.py:263: colocate_with (from tensorflow.python.framework.ops) is deprecated and will be removed in a future version.\n",
      "Instructions for updating:\n",
      "Colocations handled automatically by placer.\n"
     ]
    },
    {
     "name": "stderr",
     "output_type": "stream",
     "text": [
      "Using TensorFlow backend.\n"
     ]
    },
    {
     "name": "stdout",
     "output_type": "stream",
     "text": [
      "WARNING:tensorflow:From /home/pipemon/.local/lib/python3.6/site-packages/keras/backend/tensorflow_backend.py:3445: calling dropout (from tensorflow.python.ops.nn_ops) with keep_prob is deprecated and will be removed in a future version.\n",
      "Instructions for updating:\n",
      "Please use `rate` instead of `keep_prob`. Rate should be set to `rate = 1 - keep_prob`.\n"
     ]
    }
   ],
   "source": [
    "import tensorflow\n",
    "import keras\n",
    "import numpy as np\n",
    "import matplotlib.pyplot as plt\n",
    "\n",
    "#from keras_applications.imagenet_utils import _obtain_input_shape\n",
    "from keras import backend as K\n",
    "from keras.layers import Input, Convolution2D, MaxPooling2D, Activation, concatenate, Dropout, warnings\n",
    "from keras.layers import GlobalAveragePooling2D, GlobalMaxPooling2D, SeparableConv2D, BatchNormalization\n",
    "from keras.models import Model\n",
    "#from keras.engine.topology import get_source_inputs\n",
    "from keras.applications import imagenet_utils\n",
    "from keras.applications import MobileNet\n",
    "from keras.applications.mobilenet import preprocess_input\n",
    "\n",
    "from mobilesqueezenet import conv_block, depthwise_conv_block\n",
    "\n",
    "#from keras.utils import get_file\n",
    "#from keras.utils import layer_utils"
   ]
  },
  {
   "cell_type": "code",
   "execution_count": 2,
   "metadata": {},
   "outputs": [
    {
     "data": {
      "image/png": "[encoded data removed]",
      "text/plain": [
       "<Figure size 432x288 with 9 Axes>"
      ]
     },
     "metadata": {},
     "output_type": "display_data"
    }
   ],
   "source": [
    "# Load the Fashion MNIST dataset\n",
    "# Though we're using Keras to import the data, you are free\n",
    "# to use any deep learning framework you wish.\n",
    "(x_train, y_train), (x_test, y_test) = keras.datasets.fashion_mnist.load_data()\n",
    "# Add empty color dimension\n",
    "x_train = np.expand_dims(x_train, -1)  # shape: (num_samples, 28, 28, 1)\n",
    "x_test = np.expand_dims(x_test, -1) # shape: (num_samples, 28, 28, 1)\n",
    "# Plot a few examples. Note that the images are black and white and\n",
    "# that the labels are provided as integer values 0-9.\n",
    "num_examples = 9\n",
    "indexes = np.random.randint(x_train.shape[0], size=(num_examples))\n",
    "\n",
    "dim = int(np.sqrt(num_examples))\n",
    "\n",
    "fig = plt.figure()\n",
    "k = 1\n",
    "for idx in indexes:\n",
    "    ax = fig.add_subplot(dim, dim, k)\n",
    "    ax.imshow(x_train[idx][:, :, 0])\n",
    "    ax.set_title('Class: %d' % y_train[idx])\n",
    "    k += 1\n",
    "fig.tight_layout()\n",
    "# Preprocess the image to format each pixel to range [0, 1)\n",
    "x_train = x_train/255.0\n",
    "x_test = x_test/255.0\n",
    "# Express labels as one-hot vectors\n",
    "y_train = keras.utils.np_utils.to_categorical(y_train)\n",
    "y_test = keras.utils.np_utils.to_categorical(y_test)"
   ]
  },
  {
   "cell_type": "code",
   "execution_count": 3,
   "metadata": {},
   "outputs": [],
   "source": [
    "sq1x1 = \"squeeze1x1\"\n",
    "exp1x1 = \"expand1x1\"\n",
    "exp3x3 = \"expand3x3\"\n",
    "relu = \"relu_\"\n",
    "# Modify this cell to complete the functions below.\n",
    "def fire_module(x, fire_id, squeeze=16, expand=64):\n",
    "    s_id = 'fire' + str(fire_id) + '_'\n",
    "\n",
    "    if K.image_data_format() == 'channels_first':\n",
    "        channel_axis = 1\n",
    "    else:\n",
    "        channel_axis = 3\n",
    "    \n",
    "    x = Convolution2D(squeeze, (1, 1), padding='valid', name=s_id + sq1x1)(x)\n",
    "    x = BatchNormalization()(x)\n",
    "    x = Activation('relu', name=s_id + relu + sq1x1)(x)\n",
    "\n",
    "    left = Convolution2D(expand, (1, 1), padding='valid', name=s_id + exp1x1)(x)\n",
    "    left = BatchNormalization()(left)\n",
    "    left = Activation('relu', name=s_id + relu + exp1x1)(left)\n",
    "\n",
    "    right = Convolution2D(expand, (3, 3), padding='same', name=s_id + exp3x3)(x)\n",
    "    right = BatchNormalization()(right)\n",
    "    right = Activation('relu', name=s_id + relu + exp3x3)(right)\n",
    "    x = concatenate([left, right], axis=channel_axis, name=s_id + 'concat')\n",
    "    return x\n",
    "\n",
    "def depthwise_fire_module(x, fire_id, squeeze=16, expand=64, depth_multiplier = 1, alpha=1.0):\n",
    "    s_id = 'fire' + str(fire_id) + '/'\n",
    "    if K.image_data_format() == 'channels_first':\n",
    "        channel_axis = 1\n",
    "    else:\n",
    "        channel_axis = 3\n",
    "    \n",
    "    x = conv_block(x, squeeze, kernel=(1,1), name=s_id +sq1x1, alpha=alpha)\n",
    "    left = conv_block(x, expand, name=s_id + exp1x1, alpha=alpha)\n",
    "    right = depthwise_conv_block(x, expand, name=s_id+exp3x3, depth_multiplier=depth_multiplier, alpha=alpha)\n",
    "    x = concatenate([left, right], axis=channel_axis, name=s_id + 'concat')\n",
    "    return x"
   ]
  },
  {
   "cell_type": "code",
   "execution_count": 4,
   "metadata": {},
   "outputs": [],
   "source": [
    "def SqueezeNet(input_shape=(28,28,1), n_classes=10):\n",
    "    img_input = Input(shape=input_shape)\n",
    "\n",
    "    x = Convolution2D(64, (3, 3), strides=(2, 2), padding='valid', name='conv1')(img_input)\n",
    "    x = BatchNormalization()(x)\n",
    "    x = Activation('relu', name='relu_conv1')(x)\n",
    "    x = MaxPooling2D(pool_size=(3, 3), strides=(2, 2), name='pool1')(x)\n",
    "\n",
    "    x = fire_module(x, fire_id=2, squeeze=16, expand=64)\n",
    "    x = fire_module(x, fire_id=3, squeeze=16, expand=64)\n",
    "    x = MaxPooling2D(pool_size=(3, 3), strides=(2, 2), name='pool3')(x)\n",
    "\n",
    "    x = fire_module(x, fire_id=4, squeeze=32, expand=128)\n",
    "    x = fire_module(x, fire_id=5, squeeze=32, expand=128)\n",
    "    #x = MaxPooling2D(pool_size=(3, 3), strides=(2, 2), name='pool5')(x)\n",
    "\n",
    "    x = fire_module(x, fire_id=6, squeeze=48, expand=192)\n",
    "    x = fire_module(x, fire_id=7, squeeze=48, expand=192)\n",
    "    x = fire_module(x, fire_id=8, squeeze=64, expand=256)\n",
    "    x = fire_module(x, fire_id=9, squeeze=64, expand=256)\n",
    "    \n",
    "    #Header of the imagenet model\n",
    "    x = Dropout(0.5, name='drop9')(x)\n",
    "    x = Convolution2D(n_classes, (1, 1), padding='valid', name='conv10')(x)\n",
    "    x = BatchNormalization()(x)\n",
    "    x = Activation('relu', name='relu_conv10')(x)\n",
    "    x = GlobalAveragePooling2D()(x)\n",
    "    x = Activation('softmax', name='loss')(x)\n",
    "\n",
    "    model = Model(inputs=img_input, outputs=x, name='squeezenet')\n",
    "    return model\n",
    "\n",
    "def DepthwiseSqueezeNet(input_shape=(28,28,1), n_classes=10, depth_multiplier=1, alpha=1.0):\n",
    "    \n",
    "    img_input = Input(shape=input_shape)\n",
    "    \n",
    "    x = conv_block(img_input, 64, alpha, strides=(2,2))\n",
    "    x = MaxPooling2D(pool_size=(3,3), strides=(2,2), name='pool1')(x)\n",
    "    \n",
    "    x = depthwise_fire_module(x, fire_id=2, squeeze=16, expand=64, depth_multiplier=depth_multiplier)\n",
    "    x = depthwise_fire_module(x, fire_id=3, squeeze=16, expand=64, depth_multiplier=depth_multiplier)\n",
    "    x = MaxPooling2D(pool_size=(3, 3), strides=(2, 2), name='pool3')(x)\n",
    "\n",
    "    x = depthwise_fire_module(x, fire_id=4, squeeze=32, expand=128, depth_multiplier=depth_multiplier)\n",
    "    x = depthwise_fire_module(x, fire_id=5, squeeze=32, expand=128, depth_multiplier=depth_multiplier)\n",
    "    #x = MaxPooling2D(pool_size=(3, 3), strides=(2, 2), name='pool5')(x)\n",
    "\n",
    "    x = depthwise_fire_module(x, fire_id=6, squeeze=48, expand=192, depth_multiplier=depth_multiplier)\n",
    "    x = depthwise_fire_module(x, fire_id=7, squeeze=48, expand=192, depth_multiplier=depth_multiplier)\n",
    "    x = depthwise_fire_module(x, fire_id=8, squeeze=64, expand=256, depth_multiplier=depth_multiplier)\n",
    "    x = depthwise_fire_module(x, fire_id=9, squeeze=64, expand=256, depth_multiplier=depth_multiplier)\n",
    "    \n",
    "    #Header of the imagenet model\n",
    "    x = Dropout(0.5, name='drop9')(x)\n",
    "    #x = depthwise_conv_block(x, n_classes, depth_multiplier=depth_multiplier, name='header')\n",
    "    x = Convolution2D(n_classes, (1, 1), padding='valid', name='conv10')(x)\n",
    "    x = BatchNormalization()(x)\n",
    "    x = Activation('relu', name='relu_conv10')(x)\n",
    "    x = GlobalAveragePooling2D()(x)\n",
    "    x = Activation('softmax', name='loss')(x)\n",
    "\n",
    "    model = Model(inputs=img_input, outputs=x, name='mobile_squeezenet')\n",
    "    return model"
   ]
  },
  {
   "cell_type": "code",
   "execution_count": 5,
   "metadata": {},
   "outputs": [
    {
     "name": "stdout",
     "output_type": "stream",
     "text": [
      "WARNING:tensorflow:From /home/pipemon/.local/lib/python3.6/site-packages/tensorflow/python/ops/math_ops.py:3066: to_int32 (from tensorflow.python.ops.math_ops) is deprecated and will be removed in a future version.\n",
      "Instructions for updating:\n",
      "Use tf.cast instead.\n",
      "Train on 60000 samples, validate on 10000 samples\n",
      "Epoch 1/10\n",
      "60000/60000 [==============================] - 162s 3ms/step - loss: 0.7736 - acc: 0.7789 - val_loss: 0.4628 - val_acc: 0.8488\n",
      "Epoch 2/10\n",
      "60000/60000 [==============================] - 162s 3ms/step - loss: 0.4773 - acc: 0.8558 - val_loss: 0.5006 - val_acc: 0.8304\n",
      "Epoch 3/10\n",
      "60000/60000 [==============================] - 163s 3ms/step - loss: 0.4002 - acc: 0.8735 - val_loss: 0.4225 - val_acc: 0.8561\n",
      "Epoch 4/10\n",
      "60000/60000 [==============================] - 171s 3ms/step - loss: 0.3521 - acc: 0.8854 - val_loss: 0.3929 - val_acc: 0.8671\n",
      "Epoch 5/10\n",
      "60000/60000 [==============================] - 165s 3ms/step - loss: 0.3190 - acc: 0.8930 - val_loss: 0.3208 - val_acc: 0.8886\n",
      "Epoch 6/10\n",
      "60000/60000 [==============================] - 169s 3ms/step - loss: 0.2958 - acc: 0.9015 - val_loss: 0.2851 - val_acc: 0.9012\n",
      "Epoch 7/10\n",
      "60000/60000 [==============================] - 182s 3ms/step - loss: 0.2732 - acc: 0.9080 - val_loss: 0.3447 - val_acc: 0.8830\n",
      "Epoch 8/10\n",
      "60000/60000 [==============================] - 168s 3ms/step - loss: 0.2619 - acc: 0.9101 - val_loss: 0.3155 - val_acc: 0.8914\n",
      "Epoch 9/10\n",
      "60000/60000 [==============================] - 169s 3ms/step - loss: 0.2463 - acc: 0.9149 - val_loss: 0.2849 - val_acc: 0.9019\n",
      "Epoch 10/10\n",
      "60000/60000 [==============================] - 174s 3ms/step - loss: 0.2325 - acc: 0.9204 - val_loss: 0.2724 - val_acc: 0.9065\n"
     ]
    },
    {
     "data": {
      "text/plain": [
       "<keras.callbacks.History at 0x7f61522b8c18>"
      ]
     },
     "execution_count": 5,
     "metadata": {},
     "output_type": "execute_result"
    }
   ],
   "source": [
    "depthwise_squeeze_model = DepthwiseSqueezeNet(depth_multiplier= 1)\n",
    "depthwise_squeeze_model.compile(optimizer='adam',\n",
    "                               loss='categorical_crossentropy',\n",
    "                               metrics=['accuracy'])\n",
    "depthwise_squeeze_model.fit(x_train, y_train, epochs=10, validation_data=(x_test, y_test))"
   ]
  },
  {
   "cell_type": "code",
   "execution_count": 6,
   "metadata": {},
   "outputs": [
    {
     "name": "stdout",
     "output_type": "stream",
     "text": [
      "Train on 60000 samples, validate on 10000 samples\n",
      "Epoch 1/10\n",
      "60000/60000 [==============================] - 171s 3ms/step - loss: 0.7798 - acc: 0.7758 - val_loss: 0.5317 - val_acc: 0.8267\n",
      "Epoch 2/10\n",
      "60000/60000 [==============================] - 162s 3ms/step - loss: 0.4830 - acc: 0.8525 - val_loss: 0.4683 - val_acc: 0.8525\n",
      "Epoch 3/10\n",
      "60000/60000 [==============================] - 161s 3ms/step - loss: 0.3965 - acc: 0.8744 - val_loss: 0.3816 - val_acc: 0.8694\n",
      "Epoch 4/10\n",
      "60000/60000 [==============================] - 163s 3ms/step - loss: 0.3491 - acc: 0.8865 - val_loss: 0.3408 - val_acc: 0.8782\n",
      "Epoch 5/10\n",
      "60000/60000 [==============================] - 181s 3ms/step - loss: 0.3165 - acc: 0.8943 - val_loss: 0.3448 - val_acc: 0.8854\n",
      "Epoch 6/10\n",
      "60000/60000 [==============================] - 165s 3ms/step - loss: 0.2960 - acc: 0.9016 - val_loss: 0.3396 - val_acc: 0.8799\n",
      "Epoch 7/10\n",
      "60000/60000 [==============================] - 153s 3ms/step - loss: 0.2768 - acc: 0.9076 - val_loss: 0.3098 - val_acc: 0.8920\n",
      "Epoch 8/10\n",
      "60000/60000 [==============================] - 158s 3ms/step - loss: 0.2610 - acc: 0.9110 - val_loss: 0.2955 - val_acc: 0.8959\n",
      "Epoch 9/10\n",
      "60000/60000 [==============================] - 157s 3ms/step - loss: 0.2476 - acc: 0.9156 - val_loss: 0.3011 - val_acc: 0.8944\n",
      "Epoch 10/10\n",
      "60000/60000 [==============================] - 152s 3ms/step - loss: 0.2341 - acc: 0.9188 - val_loss: 0.2683 - val_acc: 0.9069\n"
     ]
    },
    {
     "data": {
      "text/plain": [
       "<keras.callbacks.History at 0x7f612eb1ec18>"
      ]
     },
     "execution_count": 6,
     "metadata": {},
     "output_type": "execute_result"
    }
   ],
   "source": [
    "depthwise_squeeze_model = DepthwiseSqueezeNet(depth_multiplier= 1, alpha=0.75)\n",
    "depthwise_squeeze_model.compile(optimizer='adam',\n",
    "                               loss='categorical_crossentropy',\n",
    "                               metrics=['accuracy'])\n",
    "depthwise_squeeze_model.fit(x_train, y_train, epochs=10, validation_data=(x_test, y_test))"
   ]
  },
  {
   "cell_type": "code",
   "execution_count": null,
   "metadata": {},
   "outputs": [
    {
     "name": "stdout",
     "output_type": "stream",
     "text": [
      "Train on 60000 samples, validate on 10000 samples\n",
      "Epoch 1/10\n",
      "60000/60000 [==============================] - 155s 3ms/step - loss: 0.7996 - acc: 0.7691 - val_loss: 0.5324 - val_acc: 0.8282\n",
      "Epoch 2/10\n",
      "59360/60000 [============================>.] - ETA: 1s - loss: 0.4911 - acc: 0.8487"
     ]
    }
   ],
   "source": [
    "depthwise_squeeze_model = DepthwiseSqueezeNet(depth_multiplier= 1, alpha=0.5)\n",
    "depthwise_squeeze_model.compile(optimizer='adam',\n",
    "                               loss='categorical_crossentropy',\n",
    "                               metrics=['accuracy'])\n",
    "depthwise_squeeze_model.fit(x_train, y_train, epochs=10, validation_data=(x_test, y_test))"
   ]
  },
  {
   "cell_type": "code",
   "execution_count": null,
   "metadata": {},
   "outputs": [],
   "source": [
    "depthwise_squeeze_model = DepthwiseSqueezeNet(depth_multiplier= 1, alpha=0.25)\n",
    "depthwise_squeeze_model.compile(optimizer='adam',\n",
    "                               loss='categorical_crossentropy',\n",
    "                               metrics=['accuracy'])\n",
    "depthwise_squeeze_model.fit(x_train, y_train, epochs=10, validation_data=(x_test, y_test))"
   ]
  },
  {
   "cell_type": "code",
   "execution_count": null,
   "metadata": {},
   "outputs": [],
   "source": [
    "depthwise_squeeze_model = DepthwiseSqueezeNet(depth_multiplier= 5)\n",
    "depthwise_squeeze_model.compile(optimizer='adam',\n",
    "                               loss='categorical_crossentropy',\n",
    "                               metrics=['accuracy'])\n",
    "depthwise_squeeze_model.fit(x_train, y_train, epochs=10, validation_data=(x_test, y_test))"
   ]
  },
  {
   "cell_type": "code",
   "execution_count": null,
   "metadata": {},
   "outputs": [],
   "source": [
    "depthwise_squeeze_model = DepthwiseSqueezeNet(depth_multiplier= 25)\n",
    "depthwise_squeeze_model.compile(optimizer='adam',\n",
    "                               loss='categorical_crossentropy',\n",
    "                               metrics=['accuracy'])\n",
    "depthwise_squeeze_model.fit(x_train, y_train, epochs=10, validation_data=(x_test, y_test))"
   ]
  },
  {
   "cell_type": "code",
   "execution_count": null,
   "metadata": {},
   "outputs": [],
   "source": [
    "depthwise_squeeze_model = DepthwiseSqueezeNet(depth_multiplier= 5, alpha=0.75)\n",
    "depthwise_squeeze_model.compile(optimizer='adam',\n",
    "                               loss='categorical_crossentropy',\n",
    "                               metrics=['accuracy'])\n",
    "depthwise_squeeze_model.fit(x_train, y_train, epochs=10, validation_data=(x_test, y_test))"
   ]
  },
  {
   "cell_type": "code",
   "execution_count": null,
   "metadata": {},
   "outputs": [],
   "source": [
    "depthwise_squeeze_model = DepthwiseSqueezeNet(depth_multiplier= 25, alpha=0.75)\n",
    "depthwise_squeeze_model.compile(optimizer='adam',\n",
    "                               loss='categorical_crossentropy',\n",
    "                               metrics=['accuracy'])\n",
    "depthwise_squeeze_model.fit(x_train, y_train, epochs=10, validation_data=(x_test, y_test))"
   ]
  },
  {
   "cell_type": "code",
   "execution_count": null,
   "metadata": {},
   "outputs": [],
   "source": [
    "depthwise_squeeze_model = DepthwiseSqueezeNet(depth_multiplier= 5, alpha=0.50)\n",
    "depthwise_squeeze_model.compile(optimizer='adam',\n",
    "                               loss='categorical_crossentropy',\n",
    "                               metrics=['accuracy'])\n",
    "depthwise_squeeze_model.fit(x_train, y_train, epochs=10, validation_data=(x_test, y_test))"
   ]
  },
  {
   "cell_type": "code",
   "execution_count": null,
   "metadata": {},
   "outputs": [],
   "source": [
    "depthwise_squeeze_model = DepthwiseSqueezeNet(depth_multiplier= 25, alpha=0.50)\n",
    "depthwise_squeeze_model.compile(optimizer='adam',\n",
    "                               loss='categorical_crossentropy',\n",
    "                               metrics=['accuracy'])\n",
    "depthwise_squeeze_model.fit(x_train, y_train, epochs=10, validation_data=(x_test, y_test))"
   ]
  },
  {
   "cell_type": "code",
   "execution_count": null,
   "metadata": {},
   "outputs": [],
   "source": [
    "depthwise_squeeze_model = DepthwiseSqueezeNet(depth_multiplier= 5, alpha=0.25)\n",
    "depthwise_squeeze_model.compile(optimizer='adam',\n",
    "                               loss='categorical_crossentropy',\n",
    "                               metrics=['accuracy'])\n",
    "depthwise_squeeze_model.fit(x_train, y_train, epochs=10, validation_data=(x_test, y_test))"
   ]
  },
  {
   "cell_type": "code",
   "execution_count": null,
   "metadata": {},
   "outputs": [],
   "source": [
    "depthwise_squeeze_model = DepthwiseSqueezeNet(depth_multiplier= 25, alpha=0.25)\n",
    "depthwise_squeeze_model.compile(optimizer='adam',\n",
    "                               loss='categorical_crossentropy',\n",
    "                               metrics=['accuracy'])\n",
    "depthwise_squeeze_model.fit(x_train, y_train, epochs=10, validation_data=(x_test, y_test))"
   ]
  },
  {
   "cell_type": "code",
   "execution_count": null,
   "metadata": {},
   "outputs": [],
   "source": [
    "squeeze_model = SqueezeNet()\n",
    "squeeze_model.compile(optimizer='adam', \n",
    "              loss='categorical_crossentropy',\n",
    "              metrics=['accuracy'])\n",
    "squeeze_model.fit(x_train, y_train, epochs=10, validation_data=(x_test, y_test))"
   ]
  }
 ],
 "metadata": {
  "kernelspec": {
   "display_name": "Python 3",
   "language": "python",
   "name": "python3"
  },
  "language_info": {
   "codemirror_mode": {
    "name": "ipython",
    "version": 3
   },
   "file_extension": ".py",
   "mimetype": "text/x-python",
   "name": "python",
   "nbconvert_exporter": "python",
   "pygments_lexer": "ipython3",
   "version": "3.6.7"
  }
 },
 "nbformat": 4,
 "nbformat_minor": 2
}
